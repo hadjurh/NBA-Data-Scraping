{
 "cells": [
  {
   "cell_type": "code",
   "execution_count": 11,
   "metadata": {},
   "outputs": [],
   "source": [
    "import requests\n",
    "import pandas as pd"
   ]
  },
  {
   "cell_type": "code",
   "execution_count": 12,
   "metadata": {},
   "outputs": [],
   "source": [
    "HEADERS = {\n",
    "    'Host': 'data.nba.net',\n",
    "    'User-Agent': 'Mozilla/5.0 (Macintosh; Intel Mac OS X 10.15; rv:79.0) Gecko/20100101 Firefox/79.0',\n",
    "    'Accept': 'application/json, text/plain, */*',\n",
    "    'Accept-Language': 'en-US,en;q=0.5',\n",
    "    'Accept-Encoding': 'gzip, deflate, br',\n",
    "    'Connection': 'keep-alive',\n",
    "    'api-key': 'PF2JvsskTXRs!rvmkU*.8YXg96DLKE3GN'\n",
    "}"
   ]
  },
  {
   "cell_type": "code",
   "execution_count": 13,
   "metadata": {},
   "outputs": [],
   "source": [
    "livescore = requests.get('https://fantasy.trashtalk.co/API/v1/livescore',\n",
    "                                     headers=HEADERS,\n",
    "                                     proxies=None).json()"
   ]
  },
  {
   "cell_type": "code",
   "execution_count": 14,
   "metadata": {},
   "outputs": [],
   "source": [
    "injuries = requests.get('https://www.rotowire.com/basketball/tables/injury-report.php?team=ALL&pos=ALL')"
   ]
  },
  {
   "cell_type": "code",
   "execution_count": 33,
   "outputs": [],
   "source": [
    "injuries_df = pd.DataFrame(injuries.json())"
   ],
   "metadata": {
    "collapsed": false
   }
  },
  {
   "cell_type": "code",
   "execution_count": 31,
   "outputs": [],
   "source": [
    "today_games = requests.get('https://cdn.nba.com/static/json/liveData/scoreboard/todaysScoreboard_00.json').json()['scoreboard']['games']"
   ],
   "metadata": {
    "collapsed": false
   }
  },
  {
   "cell_type": "code",
   "execution_count": 32,
   "outputs": [],
   "source": [
    "teams_abb_nested = [[g['gameCode'][-6:][:3], g['gameCode'][-6:][3:]] for g in today_games]\n",
    "teams_abb = [item for sublist in teams_abb_nested for item in sublist]"
   ],
   "metadata": {
    "collapsed": false
   }
  },
  {
   "cell_type": "code",
   "execution_count": 45,
   "outputs": [],
   "source": [
    "detailed_status_to_simple_status = {\n",
    "    'Out': 'Out',\n",
    "    'Out For Season': 'Out',\n",
    "    'Game Time Decision': 'Game Time Decision'\n",
    "}"
   ],
   "metadata": {
    "collapsed": false
   }
  },
  {
   "cell_type": "code",
   "execution_count": 48,
   "outputs": [],
   "source": [
    "injuries_df.loc[:, 'status'] = injuries_df['status'].apply(lambda s: detailed_status_to_simple_status[s])"
   ],
   "metadata": {
    "collapsed": false
   }
  },
  {
   "cell_type": "code",
   "execution_count": 51,
   "outputs": [],
   "source": [
    "injuries_df = injuries_df.loc[injuries_df['team'].isin(teams_abb), ['player', 'team', 'status']].sort_values('team')"
   ],
   "metadata": {
    "collapsed": false
   }
  },
  {
   "cell_type": "code",
   "execution_count": 71,
   "outputs": [],
   "source": [
    "grouped_injuries_df = injuries_df.groupby(['team', 'status']).agg({'player': ', '.join})"
   ],
   "metadata": {
    "collapsed": false
   }
  },
  {
   "cell_type": "code",
   "execution_count": 83,
   "outputs": [
    {
     "name": "stdout",
     "output_type": "stream",
     "text": [
      "Out\n",
      "Game Time Decision\n"
     ]
    }
   ],
   "source": [
    "for s in grouped_injuries_df.index.get_level_values('status').unique():\n",
    "    print(s)"
   ],
   "metadata": {
    "collapsed": false
   }
  },
  {
   "cell_type": "code",
   "execution_count": 89,
   "outputs": [
    {
     "data": {
      "text/plain": "                  status                                             player\nteam                                                                       \nATL                  Out                                  Bogdan Bogdanovic\nBKN                  Out                                        T.J. Warren\nCHA   Game Time Decision                          Terry Rozier, Cody Martin\nCHA                  Out                                        LaMelo Ball\nCHI                  Out  Lonzo Ball, Ayo Dosunmu, Andre Drummond, Justi...\nDAL                  Out       Davis Bertans, Frank Ntilikina, JaVale McGee\nGSW   Game Time Decision                                       Jordan Poole\nGSW                  Out                   Andre Iguodala, Donte DiVincenzo\nIND                  Out  Daniel Theis, Myles Turner, Aaron Nesmith, T.J...\nMEM   Game Time Decision                                       Jake LaRavia\nMEM                  Out  Ja Morant, Jaren Jackson, Ziaire Williams, Dan...\nMIA   Game Time Decision                                     Dewayne Dedmon\nMIA                  Out                     Victor Oladipo, Omer Yurtseven\nMIL   Game Time Decision                                           AJ Green\nMIL                  Out       Joe Ingles, Khris Middleton, Pat Connaughton\nOKC                  Out                         Chet Holmgren, Josh Giddey\nUTA   Game Time Decision                                           Rudy Gay\nUTA                  Out     Walker Kessler, Simone Fontecchio, Mike Conley",
      "text/html": "<div>\n<style scoped>\n    .dataframe tbody tr th:only-of-type {\n        vertical-align: middle;\n    }\n\n    .dataframe tbody tr th {\n        vertical-align: top;\n    }\n\n    .dataframe thead th {\n        text-align: right;\n    }\n</style>\n<table border=\"1\" class=\"dataframe\">\n  <thead>\n    <tr style=\"text-align: right;\">\n      <th></th>\n      <th>status</th>\n      <th>player</th>\n    </tr>\n    <tr>\n      <th>team</th>\n      <th></th>\n      <th></th>\n    </tr>\n  </thead>\n  <tbody>\n    <tr>\n      <th>ATL</th>\n      <td>Out</td>\n      <td>Bogdan Bogdanovic</td>\n    </tr>\n    <tr>\n      <th>BKN</th>\n      <td>Out</td>\n      <td>T.J. Warren</td>\n    </tr>\n    <tr>\n      <th>CHA</th>\n      <td>Game Time Decision</td>\n      <td>Terry Rozier, Cody Martin</td>\n    </tr>\n    <tr>\n      <th>CHA</th>\n      <td>Out</td>\n      <td>LaMelo Ball</td>\n    </tr>\n    <tr>\n      <th>CHI</th>\n      <td>Out</td>\n      <td>Lonzo Ball, Ayo Dosunmu, Andre Drummond, Justi...</td>\n    </tr>\n    <tr>\n      <th>DAL</th>\n      <td>Out</td>\n      <td>Davis Bertans, Frank Ntilikina, JaVale McGee</td>\n    </tr>\n    <tr>\n      <th>GSW</th>\n      <td>Game Time Decision</td>\n      <td>Jordan Poole</td>\n    </tr>\n    <tr>\n      <th>GSW</th>\n      <td>Out</td>\n      <td>Andre Iguodala, Donte DiVincenzo</td>\n    </tr>\n    <tr>\n      <th>IND</th>\n      <td>Out</td>\n      <td>Daniel Theis, Myles Turner, Aaron Nesmith, T.J...</td>\n    </tr>\n    <tr>\n      <th>MEM</th>\n      <td>Game Time Decision</td>\n      <td>Jake LaRavia</td>\n    </tr>\n    <tr>\n      <th>MEM</th>\n      <td>Out</td>\n      <td>Ja Morant, Jaren Jackson, Ziaire Williams, Dan...</td>\n    </tr>\n    <tr>\n      <th>MIA</th>\n      <td>Game Time Decision</td>\n      <td>Dewayne Dedmon</td>\n    </tr>\n    <tr>\n      <th>MIA</th>\n      <td>Out</td>\n      <td>Victor Oladipo, Omer Yurtseven</td>\n    </tr>\n    <tr>\n      <th>MIL</th>\n      <td>Game Time Decision</td>\n      <td>AJ Green</td>\n    </tr>\n    <tr>\n      <th>MIL</th>\n      <td>Out</td>\n      <td>Joe Ingles, Khris Middleton, Pat Connaughton</td>\n    </tr>\n    <tr>\n      <th>OKC</th>\n      <td>Out</td>\n      <td>Chet Holmgren, Josh Giddey</td>\n    </tr>\n    <tr>\n      <th>UTA</th>\n      <td>Game Time Decision</td>\n      <td>Rudy Gay</td>\n    </tr>\n    <tr>\n      <th>UTA</th>\n      <td>Out</td>\n      <td>Walker Kessler, Simone Fontecchio, Mike Conley</td>\n    </tr>\n  </tbody>\n</table>\n</div>"
     },
     "execution_count": 89,
     "metadata": {},
     "output_type": "execute_result"
    }
   ],
   "source": [
    "grouped_injuries_df.reset_index('status')"
   ],
   "metadata": {
    "collapsed": false
   }
  },
  {
   "cell_type": "code",
   "execution_count": null,
   "outputs": [],
   "source": [],
   "metadata": {
    "collapsed": false
   }
  }
 ],
 "metadata": {
  "kernelspec": {
   "display_name": "Python 3",
   "language": "python",
   "name": "python3"
  },
  "language_info": {
   "codemirror_mode": {
    "name": "ipython",
    "version": 3
   },
   "file_extension": ".py",
   "mimetype": "text/x-python",
   "name": "python",
   "nbconvert_exporter": "python",
   "pygments_lexer": "ipython3",
   "version": "3.7.5"
  }
 },
 "nbformat": 4,
 "nbformat_minor": 4
}
