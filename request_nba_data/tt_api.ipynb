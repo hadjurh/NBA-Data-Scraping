{
 "cells": [
  {
   "cell_type": "code",
   "execution_count": 1,
   "metadata": {},
   "outputs": [],
   "source": [
    "import requests\n",
    "import pandas as pd"
   ]
  },
  {
   "cell_type": "code",
   "execution_count": 2,
   "metadata": {},
   "outputs": [],
   "source": [
    "HEADERS = {\n",
    "    'Host': 'data.nba.net',\n",
    "    'User-Agent': 'Mozilla/5.0 (Macintosh; Intel Mac OS X 10.15; rv:79.0) Gecko/20100101 Firefox/79.0',\n",
    "    'Accept': 'application/json, text/plain, */*',\n",
    "    'Accept-Language': 'en-US,en;q=0.5',\n",
    "    'Accept-Encoding': 'gzip, deflate, br',\n",
    "    'Connection': 'keep-alive',\n",
    "    'api-key': 'PF2JvsskTXRs!rvmkU*.8YXg96DLKE3GN'\n",
    "}"
   ]
  },
  {
   "cell_type": "code",
   "execution_count": 3,
   "metadata": {},
   "outputs": [],
   "source": [
    "livescore = requests.get('https://fantasy.trashtalk.co/API/v1/livescore',\n",
    "                                     headers=HEADERS,\n",
    "                                     proxies=None).json()"
   ]
  },
  {
   "cell_type": "code",
   "execution_count": 4,
   "metadata": {},
   "outputs": [],
   "source": [
    "injuries = requests.get('https://www.rotowire.com/basketball/tables/injury-report.php?team=ALL&pos=ALL')"
   ]
  },
  {
   "cell_type": "code",
   "execution_count": 5,
   "metadata": {},
   "outputs": [],
   "source": [
    "injuries_df = pd.DataFrame(injuries.json())"
   ]
  },
  {
   "cell_type": "code",
   "execution_count": 6,
   "metadata": {},
   "outputs": [],
   "source": [
    "today_games = requests.get('https://cdn.nba.com/static/json/liveData/scoreboard/todaysScoreboard_00.json').json()['scoreboard']['games']"
   ]
  },
  {
   "cell_type": "code",
   "execution_count": 7,
   "metadata": {},
   "outputs": [],
   "source": [
    "teams_abb_nested = [[g['gameCode'][-6:][:3], g['gameCode'][-6:][3:]] for g in today_games]\n",
    "teams_abb = [item for sublist in teams_abb_nested for item in sublist]"
   ]
  },
  {
   "cell_type": "code",
   "execution_count": 8,
   "metadata": {},
   "outputs": [],
   "source": [
    "detailed_status_to_simple_status = {\n",
    "    'Out': 'Out',\n",
    "    'Out For Season': 'Out',\n",
    "    'Game Time Decision': 'Game Time Decision'\n",
    "}"
   ]
  },
  {
   "cell_type": "code",
   "execution_count": 9,
   "metadata": {},
   "outputs": [],
   "source": [
    "injuries_df.loc[:, 'status'] = injuries_df['status'].apply(lambda s: detailed_status_to_simple_status[s])"
   ]
  },
  {
   "cell_type": "code",
   "execution_count": 10,
   "metadata": {},
   "outputs": [],
   "source": [
    "injuries_df = injuries_df.loc[injuries_df['team'].isin(teams_abb), ['player', 'team', 'status']].sort_values('team')"
   ]
  },
  {
   "cell_type": "code",
   "execution_count": 11,
   "metadata": {},
   "outputs": [],
   "source": [
    "grouped_injuries_df = injuries_df.groupby(['team', 'status']).agg({'player': ', '.join})"
   ]
  },
  {
   "cell_type": "code",
   "execution_count": 12,
   "metadata": {},
   "outputs": [
    {
     "name": "stdout",
     "output_type": "stream",
     "text": [
      "Game Time Decision\n",
      "Out\n"
     ]
    }
   ],
   "source": [
    "for s in grouped_injuries_df.index.get_level_values('status').unique():\n",
    "    print(s)"
   ]
  },
  {
   "cell_type": "code",
   "execution_count": 13,
   "metadata": {},
   "outputs": [
    {
     "data": {
      "text/html": [
       "<div>\n",
       "<style scoped>\n",
       "    .dataframe tbody tr th:only-of-type {\n",
       "        vertical-align: middle;\n",
       "    }\n",
       "\n",
       "    .dataframe tbody tr th {\n",
       "        vertical-align: top;\n",
       "    }\n",
       "\n",
       "    .dataframe thead th {\n",
       "        text-align: right;\n",
       "    }\n",
       "</style>\n",
       "<table border=\"1\" class=\"dataframe\">\n",
       "  <thead>\n",
       "    <tr style=\"text-align: right;\">\n",
       "      <th></th>\n",
       "      <th>status</th>\n",
       "      <th>player</th>\n",
       "    </tr>\n",
       "    <tr>\n",
       "      <th>team</th>\n",
       "      <th></th>\n",
       "      <th></th>\n",
       "    </tr>\n",
       "  </thead>\n",
       "  <tbody>\n",
       "    <tr>\n",
       "      <th>BOS</th>\n",
       "      <td>Game Time Decision</td>\n",
       "      <td>Malcolm Brogdon</td>\n",
       "    </tr>\n",
       "    <tr>\n",
       "      <th>BOS</th>\n",
       "      <td>Out</td>\n",
       "      <td>Robert Williams, Danilo Gallinari</td>\n",
       "    </tr>\n",
       "    <tr>\n",
       "      <th>CLE</th>\n",
       "      <td>Out</td>\n",
       "      <td>Darius Garland, Ricky Rubio, Dylan Windler</td>\n",
       "    </tr>\n",
       "    <tr>\n",
       "      <th>DAL</th>\n",
       "      <td>Out</td>\n",
       "      <td>Davis Bertans, Frank Ntilikina</td>\n",
       "    </tr>\n",
       "    <tr>\n",
       "      <th>DEN</th>\n",
       "      <td>Game Time Decision</td>\n",
       "      <td>Kentavious Caldwell-Pope, Davon Reed</td>\n",
       "    </tr>\n",
       "    <tr>\n",
       "      <th>DEN</th>\n",
       "      <td>Out</td>\n",
       "      <td>Collin Gillespie</td>\n",
       "    </tr>\n",
       "    <tr>\n",
       "      <th>DET</th>\n",
       "      <td>Out</td>\n",
       "      <td>Marvin Bagley, Alec Burks</td>\n",
       "    </tr>\n",
       "    <tr>\n",
       "      <th>GSW</th>\n",
       "      <td>Game Time Decision</td>\n",
       "      <td>Jordan Poole</td>\n",
       "    </tr>\n",
       "    <tr>\n",
       "      <th>GSW</th>\n",
       "      <td>Out</td>\n",
       "      <td>Klay Thompson, Andre Iguodala, Donte DiVincenzo</td>\n",
       "    </tr>\n",
       "    <tr>\n",
       "      <th>HOU</th>\n",
       "      <td>Game Time Decision</td>\n",
       "      <td>Jabari Smith</td>\n",
       "    </tr>\n",
       "    <tr>\n",
       "      <th>HOU</th>\n",
       "      <td>Out</td>\n",
       "      <td>TyTy Washington, Eric Gordon, Bruno Fernando</td>\n",
       "    </tr>\n",
       "    <tr>\n",
       "      <th>LAC</th>\n",
       "      <td>Out</td>\n",
       "      <td>Robert Covington, Kawhi Leonard</td>\n",
       "    </tr>\n",
       "    <tr>\n",
       "      <th>LAL</th>\n",
       "      <td>Game Time Decision</td>\n",
       "      <td>LeBron James, Anthony Davis, Juan Toscano-Ande...</td>\n",
       "    </tr>\n",
       "    <tr>\n",
       "      <th>LAL</th>\n",
       "      <td>Out</td>\n",
       "      <td>Cole Swider, Thomas Bryant, Dennis Schroder</td>\n",
       "    </tr>\n",
       "    <tr>\n",
       "      <th>MIN</th>\n",
       "      <td>Game Time Decision</td>\n",
       "      <td>Jordan McLaughlin, Kyle Anderson</td>\n",
       "    </tr>\n",
       "    <tr>\n",
       "      <th>NOP</th>\n",
       "      <td>Game Time Decision</td>\n",
       "      <td>Zion Williamson, Herbert Jones</td>\n",
       "    </tr>\n",
       "    <tr>\n",
       "      <th>NOP</th>\n",
       "      <td>Out</td>\n",
       "      <td>Kira Lewis, Brandon Ingram, Dyson Daniels, E.J...</td>\n",
       "    </tr>\n",
       "    <tr>\n",
       "      <th>NYK</th>\n",
       "      <td>Out</td>\n",
       "      <td>Quentin Grimes</td>\n",
       "    </tr>\n",
       "    <tr>\n",
       "      <th>ORL</th>\n",
       "      <td>Out</td>\n",
       "      <td>Cole Anthony, Moritz Wagner, Markelle Fultz, G...</td>\n",
       "    </tr>\n",
       "    <tr>\n",
       "      <th>PHX</th>\n",
       "      <td>Out</td>\n",
       "      <td>Jae Crowder, Ish Wainright, Deandre Ayton</td>\n",
       "    </tr>\n",
       "    <tr>\n",
       "      <th>SAS</th>\n",
       "      <td>Out</td>\n",
       "      <td>Jeremy Sochan, Devin Vassell, Josh Richardson</td>\n",
       "    </tr>\n",
       "    <tr>\n",
       "      <th>WAS</th>\n",
       "      <td>Out</td>\n",
       "      <td>Corey Kispert, Delon Wright</td>\n",
       "    </tr>\n",
       "  </tbody>\n",
       "</table>\n",
       "</div>"
      ],
      "text/plain": [
       "                  status                                             player\n",
       "team                                                                       \n",
       "BOS   Game Time Decision                                    Malcolm Brogdon\n",
       "BOS                  Out                  Robert Williams, Danilo Gallinari\n",
       "CLE                  Out         Darius Garland, Ricky Rubio, Dylan Windler\n",
       "DAL                  Out                     Davis Bertans, Frank Ntilikina\n",
       "DEN   Game Time Decision               Kentavious Caldwell-Pope, Davon Reed\n",
       "DEN                  Out                                   Collin Gillespie\n",
       "DET                  Out                          Marvin Bagley, Alec Burks\n",
       "GSW   Game Time Decision                                       Jordan Poole\n",
       "GSW                  Out    Klay Thompson, Andre Iguodala, Donte DiVincenzo\n",
       "HOU   Game Time Decision                                       Jabari Smith\n",
       "HOU                  Out       TyTy Washington, Eric Gordon, Bruno Fernando\n",
       "LAC                  Out                    Robert Covington, Kawhi Leonard\n",
       "LAL   Game Time Decision  LeBron James, Anthony Davis, Juan Toscano-Ande...\n",
       "LAL                  Out        Cole Swider, Thomas Bryant, Dennis Schroder\n",
       "MIN   Game Time Decision                   Jordan McLaughlin, Kyle Anderson\n",
       "NOP   Game Time Decision                     Zion Williamson, Herbert Jones\n",
       "NOP                  Out  Kira Lewis, Brandon Ingram, Dyson Daniels, E.J...\n",
       "NYK                  Out                                     Quentin Grimes\n",
       "ORL                  Out  Cole Anthony, Moritz Wagner, Markelle Fultz, G...\n",
       "PHX                  Out          Jae Crowder, Ish Wainright, Deandre Ayton\n",
       "SAS                  Out      Jeremy Sochan, Devin Vassell, Josh Richardson\n",
       "WAS                  Out                        Corey Kispert, Delon Wright"
      ]
     },
     "execution_count": 13,
     "metadata": {},
     "output_type": "execute_result"
    }
   ],
   "source": [
    "grouped_injuries_df.reset_index('status')"
   ]
  },
  {
   "cell_type": "code",
   "execution_count": null,
   "metadata": {},
   "outputs": [],
   "source": []
  }
 ],
 "metadata": {
  "kernelspec": {
   "display_name": "Python 3 (ipykernel)",
   "language": "python",
   "name": "python3"
  },
  "language_info": {
   "codemirror_mode": {
    "name": "ipython",
    "version": 3
   },
   "file_extension": ".py",
   "mimetype": "text/x-python",
   "name": "python",
   "nbconvert_exporter": "python",
   "pygments_lexer": "ipython3",
   "version": "3.7.5"
  }
 },
 "nbformat": 4,
 "nbformat_minor": 4
}
